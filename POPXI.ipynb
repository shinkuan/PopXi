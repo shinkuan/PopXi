{
 "cells": [
  {
   "cell_type": "code",
   "execution_count": 10,
   "id": "25029994",
   "metadata": {
    "scrolled": true
   },
   "outputs": [],
   "source": [
    "import json\n",
    "import requests\n",
    "import threading\n",
    "import time\n",
    "import os\n",
    "from seleniumwire import webdriver\n",
    "from selenium.webdriver.common.proxy import Proxy, ProxyType"
   ]
  },
  {
   "cell_type": "code",
   "execution_count": 12,
   "id": "6caf9ad6",
   "metadata": {},
   "outputs": [],
   "source": [
    "def interceptor(request):\n",
    "    if request.url.startswith('https://us-central1-popxi-f3a4d.cloudfunctions.net/stats?count='):\n",
    "        params = request.params\n",
    "        params['count'] = '5000'\n",
    "        request.params = params\n",
    "        print('Popping...')"
   ]
  },
  {
   "cell_type": "code",
   "execution_count": 13,
   "id": "f3e6e7ed",
   "metadata": {},
   "outputs": [],
   "source": [
    "def initBrowser(proxy = None):\n",
    "    options = webdriver.ChromeOptions()\n",
    "    options.add_argument('ignore-certificate-errors')\n",
    "    #options.add_argument('headless')\n",
    "    options.add_argument('window-size=1920x1080')\n",
    "    #options.add_argument(\"disable-gpu\")\n",
    "    options.add_argument(\"--mute-audio\")\n",
    "    #options.add_argument(\"--disable-gpu\")\n",
    "    #seleniumwire_options = {\n",
    "    #    'enable_har': True  # Capture HAR data, retrieve with driver.har\n",
    "    #}\n",
    "    #driver = webdriver.Chrome('chromedriver', options=options, seleniumwire_options=seleniumwire_options)\n",
    "    if proxy is not None:\n",
    "        chrome_options.add_argument('--proxy-server=%s' % PROXY)\n",
    "    \n",
    "    driver = webdriver.Chrome('chromedriver', options=options)\n",
    "    driver.request_interceptor = interceptor\n",
    "    #driver.scopes = [\n",
    "    #    '.*www.google.com/*',\n",
    "    #    '.*us-central1-popxi-f3a4d.cloudfunctions.net/stats*.*'\n",
    "    #]\n",
    "    driver.get('https://popxi.click/')\n",
    "    driver.execute_script('var event=new KeyboardEvent(\"keydown\",{key:\"g\",ctrlKey:!0});setInterval(function(){for(i=0;i<1;i++)document.dispatchEvent(event)},200);')\n",
    "    return driver"
   ]
  },
  {
   "cell_type": "code",
   "execution_count": 15,
   "id": "09833a63",
   "metadata": {},
   "outputs": [],
   "source": [
    "def getRequests(driver):\n",
    "    get = False\n",
    "    while not get:\n",
    "        for req in driver.requests:\n",
    "            if req.url.startswith('https://us-central1-popxi-f3a4d.cloudfunctions.net/stats?count='):\n",
    "                try:\n",
    "                    print('Response: ' + str(req.response.status_code))\n",
    "                except:\n",
    "                    print('Response: None')\n",
    "                print('Deleting cookies...')\n",
    "                driver.delete_all_cookies()\n",
    "                del driver.requests\n",
    "                driver.execute_script(\"window.open('https://popxi.click/');\")\n",
    "                driver.switch_to.window(driver.window_handles[0])\n",
    "                driver.close()\n",
    "                driver.switch_to.window(driver.window_handles[0])\n",
    "                print('Deleted.')\n",
    "                time.sleep(2)\n",
    "                driver.execute_script('var event=new KeyboardEvent(\"keydown\",{key:\"g\",ctrlKey:!0});setInterval(function(){for(i=0;i<1;i++)document.dispatchEvent(event)},200);')\n",
    "        time.sleep(1)"
   ]
  },
  {
   "cell_type": "code",
   "execution_count": 16,
   "id": "41fd8b19",
   "metadata": {
    "scrolled": false
   },
   "outputs": [],
   "source": [
    "def Run(proxy = None):\n",
    "    print(\"Starting browser...\")\n",
    "    driver = initBrowser(proxy)\n",
    "    print(\"Browser Started.\")\n",
    "    print(\"Fetching requests...\")\n",
    "    getRequests(driver)"
   ]
  },
  {
   "cell_type": "code",
   "execution_count": 15,
   "id": "10c95138",
   "metadata": {},
   "outputs": [],
   "source": [
    "Run()"
   ]
  },
  {
   "cell_type": "code",
   "execution_count": null,
   "id": "5939d6e3",
   "metadata": {},
   "outputs": [],
   "source": []
  }
 ],
 "metadata": {
  "kernelspec": {
   "display_name": "Python 3 (ipykernel)",
   "language": "python",
   "name": "python3"
  },
  "language_info": {
   "codemirror_mode": {
    "name": "ipython",
    "version": 3
   },
   "file_extension": ".py",
   "mimetype": "text/x-python",
   "name": "python",
   "nbconvert_exporter": "python",
   "pygments_lexer": "ipython3",
   "version": "3.9.6"
  }
 },
 "nbformat": 4,
 "nbformat_minor": 5
}
